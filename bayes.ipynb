{
 "cells": [
  {
   "cell_type": "code",
   "execution_count": 22,
   "id": "7f93fca3",
   "metadata": {},
   "outputs": [
    {
     "name": "stderr",
     "output_type": "stream",
     "text": [
      "  0%|                                                 | 0/20 [00:00<?, ?it/s]\n",
      "  0%|                                                  | 0/5 [00:00<?, ?it/s]\u001b[A"
     ]
    },
    {
     "name": "stdout",
     "output_type": "stream",
     "text": [
      "S01_P011_Christian_all.csv\n",
      "S01_P011_Christian_all.csv\n"
     ]
    },
    {
     "name": "stderr",
     "output_type": "stream",
     "text": [
      "\n",
      " 20%|████████▍                                 | 1/5 [00:01<00:06,  1.55s/it]\u001b[A"
     ]
    },
    {
     "name": "stdout",
     "output_type": "stream",
     "text": [
      "S01_P017_Julian_all.csv\n",
      "S01_P017_Julian_all.csv\n"
     ]
    },
    {
     "name": "stderr",
     "output_type": "stream",
     "text": [
      "\n",
      " 40%|████████████████▊                         | 2/5 [00:02<00:04,  1.41s/it]\u001b[A"
     ]
    },
    {
     "name": "stdout",
     "output_type": "stream",
     "text": [
      "S01_P025_Liam_all.csv\n",
      "S01_P025_Liam_all.csv\n"
     ]
    },
    {
     "name": "stderr",
     "output_type": "stream",
     "text": [
      "\n",
      " 60%|█████████████████████████▏                | 3/5 [00:04<00:02,  1.38s/it]\u001b[A"
     ]
    },
    {
     "name": "stdout",
     "output_type": "stream",
     "text": [
      "S01_P026_Oliver_all.csv\n",
      "S01_P026_Oliver_all.csv\n"
     ]
    },
    {
     "name": "stderr",
     "output_type": "stream",
     "text": [
      "\n",
      " 80%|█████████████████████████████████▌        | 4/5 [00:05<00:01,  1.36s/it]\u001b[A\n",
      "100%|██████████████████████████████████████████| 5/5 [00:06<00:00,  1.37s/it]\u001b[A\n",
      "  5%|██                                       | 1/20 [00:06<02:11,  6.90s/it]"
     ]
    },
    {
     "name": "stdout",
     "output_type": "stream",
     "text": [
      "\n",
      "\n",
      "(4, 5761, 184)\n"
     ]
    },
    {
     "name": "stderr",
     "output_type": "stream",
     "text": [
      "\n",
      "  0%|                                                  | 0/5 [00:00<?, ?it/s]\u001b[A"
     ]
    },
    {
     "name": "stdout",
     "output_type": "stream",
     "text": [
      "S02_P019_Liam_all.csv\n",
      "S02_P019_Liam_all.csv\n"
     ]
    },
    {
     "name": "stderr",
     "output_type": "stream",
     "text": [
      "\n",
      " 20%|████████▍                                 | 1/5 [00:00<00:03,  1.01it/s]\u001b[A"
     ]
    },
    {
     "name": "stdout",
     "output_type": "stream",
     "text": [
      "S02_P021_David_all.csv\n",
      "S02_P021_David_all.csv\n"
     ]
    },
    {
     "name": "stderr",
     "output_type": "stream",
     "text": [
      "\n",
      " 40%|████████████████▊                         | 2/5 [00:02<00:03,  1.01s/it]\u001b[A"
     ]
    },
    {
     "name": "stdout",
     "output_type": "stream",
     "text": [
      "S02_P024_Ava_all.csv\n",
      "S02_P024_Ava_all.csv\n"
     ]
    },
    {
     "name": "stderr",
     "output_type": "stream",
     "text": [
      "\n",
      " 60%|█████████████████████████▏                | 3/5 [00:03<00:02,  1.00s/it]\u001b[A"
     ]
    },
    {
     "name": "stdout",
     "output_type": "stream",
     "text": [
      "S02_P027_Mia_all.csv\n",
      "S02_P027_Mia_all.csv\n"
     ]
    },
    {
     "name": "stderr",
     "output_type": "stream",
     "text": [
      "\n",
      " 80%|█████████████████████████████████▌        | 4/5 [00:04<00:01,  1.01s/it]\u001b[A\n",
      "100%|██████████████████████████████████████████| 5/5 [00:05<00:00,  1.01s/it]\u001b[A\n",
      " 10%|████                                     | 2/20 [00:11<01:44,  5.82s/it]"
     ]
    },
    {
     "name": "stdout",
     "output_type": "stream",
     "text": [
      "\n",
      "\n",
      "(4, 4348, 184)\n"
     ]
    },
    {
     "name": "stderr",
     "output_type": "stream",
     "text": [
      "\n",
      "  0%|                                                  | 0/5 [00:00<?, ?it/s]\u001b[A"
     ]
    },
    {
     "name": "stdout",
     "output_type": "stream",
     "text": [
      "S07_P003_Maya_all.csv\n",
      "S07_P003_Maya_all.csv\n"
     ]
    },
    {
     "name": "stderr",
     "output_type": "stream",
     "text": [
      "\n",
      " 20%|████████▍                                 | 1/5 [00:02<00:09,  2.33s/it]\u001b[A"
     ]
    },
    {
     "name": "stdout",
     "output_type": "stream",
     "text": [
      "S07_P046_Violet_all.csv\n",
      "S07_P046_Violet_all.csv\n"
     ]
    },
    {
     "name": "stderr",
     "output_type": "stream",
     "text": [
      "\n",
      " 40%|████████████████▊                         | 2/5 [00:04<00:06,  2.29s/it]\u001b[A"
     ]
    },
    {
     "name": "stdout",
     "output_type": "stream",
     "text": [
      "S07_P051_Amelia_all.csv\n",
      "S07_P051_Amelia_all.csv\n"
     ]
    },
    {
     "name": "stderr",
     "output_type": "stream",
     "text": [
      "\n",
      " 60%|█████████████████████████▏                | 3/5 [00:06<00:04,  2.28s/it]\u001b[A"
     ]
    },
    {
     "name": "stdout",
     "output_type": "stream",
     "text": [
      "S07_P053_Aria_all.csv\n",
      "S07_P053_Aria_all.csv\n"
     ]
    },
    {
     "name": "stderr",
     "output_type": "stream",
     "text": [
      "\n",
      " 80%|█████████████████████████████████▌        | 4/5 [00:09<00:02,  2.27s/it]\u001b[A\n",
      "100%|██████████████████████████████████████████| 5/5 [00:11<00:00,  2.27s/it]\u001b[A\n",
      " 15%|██████▏                                  | 3/20 [00:23<02:22,  8.37s/it]"
     ]
    },
    {
     "name": "stdout",
     "output_type": "stream",
     "text": [
      "\n",
      "\n",
      "(4, 10136, 184)\n"
     ]
    },
    {
     "name": "stderr",
     "output_type": "stream",
     "text": [
      "\n",
      "  0%|                                                  | 0/5 [00:00<?, ?it/s]\u001b[A"
     ]
    },
    {
     "name": "stdout",
     "output_type": "stream",
     "text": [
      "S08_P040_Samuel_all.csv\n",
      "S08_P040_Samuel_all.csv\n"
     ]
    },
    {
     "name": "stderr",
     "output_type": "stream",
     "text": [
      "\n",
      " 20%|████████▍                                 | 1/5 [00:01<00:07,  1.83s/it]\u001b[A"
     ]
    },
    {
     "name": "stdout",
     "output_type": "stream",
     "text": [
      "S08_P044_Adam_all.csv\n",
      "S08_P044_Adam_all.csv\n"
     ]
    },
    {
     "name": "stderr",
     "output_type": "stream",
     "text": [
      "\n",
      " 40%|████████████████▊                         | 2/5 [00:03<00:05,  1.83s/it]\u001b[A"
     ]
    },
    {
     "name": "stdout",
     "output_type": "stream",
     "text": [
      "S08_P048_Arya_all.csv\n",
      "S08_P048_Arya_all.csv\n"
     ]
    },
    {
     "name": "stderr",
     "output_type": "stream",
     "text": [
      "\n",
      " 60%|█████████████████████████▏                | 3/5 [00:05<00:03,  1.83s/it]\u001b[A"
     ]
    },
    {
     "name": "stdout",
     "output_type": "stream",
     "text": [
      "S08_P052_Charlie_all.csv\n",
      "S08_P052_Charlie_all.csv\n"
     ]
    },
    {
     "name": "stderr",
     "output_type": "stream",
     "text": [
      "\n",
      " 80%|█████████████████████████████████▌        | 4/5 [00:07<00:01,  1.81s/it]\u001b[A\n",
      "100%|██████████████████████████████████████████| 5/5 [00:09<00:00,  1.80s/it]\u001b[A\n",
      " 20%|████████▏                                | 4/20 [00:32<02:18,  8.65s/it]"
     ]
    },
    {
     "name": "stdout",
     "output_type": "stream",
     "text": [
      "\n",
      "\n",
      "(4, 8080, 184)\n"
     ]
    },
    {
     "name": "stderr",
     "output_type": "stream",
     "text": [
      "\n",
      "  0%|                                                  | 0/5 [00:00<?, ?it/s]\u001b[A"
     ]
    },
    {
     "name": "stdout",
     "output_type": "stream",
     "text": [
      "S09_P007_Thomas_all.csv\n",
      "S09_P007_Thomas_all.csv\n"
     ]
    },
    {
     "name": "stderr",
     "output_type": "stream",
     "text": [
      "\n",
      " 20%|████████▍                                 | 1/5 [00:03<00:14,  3.59s/it]\u001b[A"
     ]
    },
    {
     "name": "stdout",
     "output_type": "stream",
     "text": [
      "S09_P022_Maya_all.csv\n",
      "S09_P022_Maya_all.csv\n"
     ]
    },
    {
     "name": "stderr",
     "output_type": "stream",
     "text": [
      "\n",
      " 40%|████████████████▊                         | 2/5 [00:07<00:10,  3.58s/it]\u001b[A"
     ]
    },
    {
     "name": "stdout",
     "output_type": "stream",
     "text": [
      "S09_P028_Carter_all.csv\n",
      "S09_P028_Carter_all.csv\n"
     ]
    },
    {
     "name": "stderr",
     "output_type": "stream",
     "text": [
      "\n",
      " 60%|█████████████████████████▏                | 3/5 [00:10<00:07,  3.57s/it]\u001b[A"
     ]
    },
    {
     "name": "stdout",
     "output_type": "stream",
     "text": [
      "S09_P049_Ivy_all.csv\n",
      "S09_P049_Ivy_all.csv\n"
     ]
    },
    {
     "name": "stderr",
     "output_type": "stream",
     "text": [
      "\n",
      " 80%|█████████████████████████████████▌        | 4/5 [00:14<00:03,  3.73s/it]\u001b[A\n",
      "100%|██████████████████████████████████████████| 5/5 [00:18<00:00,  3.66s/it]\u001b[A\n",
      " 25%|██████████▎                              | 5/20 [00:50<03:02, 12.16s/it]"
     ]
    },
    {
     "name": "stdout",
     "output_type": "stream",
     "text": [
      "\n",
      "\n",
      "(4, 15838, 184)\n"
     ]
    },
    {
     "name": "stderr",
     "output_type": "stream",
     "text": [
      "\n",
      "  0%|                                                  | 0/5 [00:00<?, ?it/s]\u001b[A"
     ]
    },
    {
     "name": "stdout",
     "output_type": "stream",
     "text": [
      "S10_P047_Everly_all.csv\n",
      "S10_P047_Everly_all.csv\n"
     ]
    },
    {
     "name": "stderr",
     "output_type": "stream",
     "text": [
      "\n",
      " 20%|████████▍                                 | 1/5 [00:02<00:08,  2.13s/it]\u001b[A"
     ]
    },
    {
     "name": "stdout",
     "output_type": "stream",
     "text": [
      "S10_P057_Eliana_all.csv\n",
      "S10_P057_Eliana_all.csv\n"
     ]
    },
    {
     "name": "stderr",
     "output_type": "stream",
     "text": [
      "\n",
      " 40%|████████████████▊                         | 2/5 [00:04<00:06,  2.14s/it]\u001b[A"
     ]
    },
    {
     "name": "stdout",
     "output_type": "stream",
     "text": [
      "S10_P063_Lillian_all.csv\n",
      "S10_P063_Lillian_all.csv\n"
     ]
    },
    {
     "name": "stderr",
     "output_type": "stream",
     "text": [
      "\n",
      " 60%|█████████████████████████▏                | 3/5 [00:06<00:04,  2.16s/it]\u001b[A"
     ]
    },
    {
     "name": "stdout",
     "output_type": "stream",
     "text": [
      "S10_P068_Amelia_all.csv\n",
      "S10_P068_Amelia_all.csv\n"
     ]
    },
    {
     "name": "stderr",
     "output_type": "stream",
     "text": [
      "\n",
      " 80%|█████████████████████████████████▌        | 4/5 [00:08<00:02,  2.16s/it]\u001b[A\n",
      "100%|██████████████████████████████████████████| 5/5 [00:10<00:00,  2.14s/it]\u001b[A\n",
      " 30%|████████████▎                            | 6/20 [01:01<02:43, 11.69s/it]"
     ]
    },
    {
     "name": "stdout",
     "output_type": "stream",
     "text": [
      "\n",
      "\n",
      "(4, 9732, 184)\n"
     ]
    },
    {
     "name": "stderr",
     "output_type": "stream",
     "text": [
      "\n",
      "  0%|                                                  | 0/5 [00:00<?, ?it/s]\u001b[A"
     ]
    },
    {
     "name": "stdout",
     "output_type": "stream",
     "text": [
      "S11_P035_aurora_all.csv\n",
      "S11_P035_aurora_all.csv\n"
     ]
    },
    {
     "name": "stderr",
     "output_type": "stream",
     "text": [
      "\n",
      " 20%|████████▍                                 | 1/5 [00:02<00:09,  2.35s/it]\u001b[A"
     ]
    },
    {
     "name": "stdout",
     "output_type": "stream",
     "text": [
      "S11_P043_Gina_all.csv\n",
      "S11_P043_Gina_all.csv\n"
     ]
    },
    {
     "name": "stderr",
     "output_type": "stream",
     "text": [
      "\n",
      " 40%|████████████████▊                         | 2/5 [00:04<00:07,  2.39s/it]\u001b[A"
     ]
    },
    {
     "name": "stdout",
     "output_type": "stream",
     "text": [
      "S11_P058_Ellie_all.csv\n",
      "S11_P058_Ellie_all.csv\n"
     ]
    },
    {
     "name": "stderr",
     "output_type": "stream",
     "text": [
      "\n",
      " 60%|█████████████████████████▏                | 3/5 [00:07<00:04,  2.38s/it]\u001b[A"
     ]
    },
    {
     "name": "stdout",
     "output_type": "stream",
     "text": [
      "S11_P074_naomi_all.csv\n",
      "S11_P074_naomi_all.csv\n"
     ]
    },
    {
     "name": "stderr",
     "output_type": "stream",
     "text": [
      "\n",
      " 80%|█████████████████████████████████▌        | 4/5 [00:09<00:02,  2.39s/it]\u001b[A\n",
      "100%|██████████████████████████████████████████| 5/5 [00:11<00:00,  2.38s/it]\u001b[A\n",
      " 35%|██████████████▎                          | 7/20 [01:13<02:33, 11.79s/it]"
     ]
    },
    {
     "name": "stdout",
     "output_type": "stream",
     "text": [
      "\n",
      "\n",
      "(4, 10728, 184)\n"
     ]
    },
    {
     "name": "stderr",
     "output_type": "stream",
     "text": [
      "\n",
      "  0%|                                                  | 0/5 [00:00<?, ?it/s]\u001b[A"
     ]
    },
    {
     "name": "stdout",
     "output_type": "stream",
     "text": [
      "S12_P073_Aria_all.csv\n",
      "S12_P073_Aria_all.csv\n"
     ]
    },
    {
     "name": "stderr",
     "output_type": "stream",
     "text": [
      "\n",
      " 20%|████████▍                                 | 1/5 [00:01<00:07,  1.96s/it]\u001b[A"
     ]
    },
    {
     "name": "stdout",
     "output_type": "stream",
     "text": [
      "S12_P082_Charlie_all.csv\n",
      "S12_P082_Charlie_all.csv\n"
     ]
    },
    {
     "name": "stderr",
     "output_type": "stream",
     "text": [
      "\n",
      " 40%|████████████████▊                         | 2/5 [00:03<00:05,  1.96s/it]\u001b[A"
     ]
    },
    {
     "name": "stdout",
     "output_type": "stream",
     "text": [
      "S12_P084_Hazel_all.csv\n",
      "S12_P084_Hazel_all.csv\n"
     ]
    },
    {
     "name": "stderr",
     "output_type": "stream",
     "text": [
      "\n",
      " 60%|█████████████████████████▏                | 3/5 [00:05<00:03,  1.97s/it]\u001b[A"
     ]
    },
    {
     "name": "stdout",
     "output_type": "stream",
     "text": [
      "S12_P099_Ella_all.csv\n",
      "S12_P099_Ella_all.csv\n"
     ]
    },
    {
     "name": "stderr",
     "output_type": "stream",
     "text": [
      "\n",
      " 80%|█████████████████████████████████▌        | 4/5 [00:07<00:01,  1.96s/it]\u001b[A\n",
      "100%|██████████████████████████████████████████| 5/5 [00:09<00:00,  1.96s/it]\u001b[A\n",
      " 40%|████████████████▍                        | 8/20 [01:23<02:14, 11.18s/it]"
     ]
    },
    {
     "name": "stdout",
     "output_type": "stream",
     "text": [
      "\n",
      "\n",
      "(4, 8904, 184)\n"
     ]
    },
    {
     "name": "stderr",
     "output_type": "stream",
     "text": [
      "\n",
      "  0%|                                                  | 0/5 [00:00<?, ?it/s]\u001b[A"
     ]
    },
    {
     "name": "stdout",
     "output_type": "stream",
     "text": [
      "S14_P092_Claire_all.csv\n",
      "S14_P092_Claire_all.csv\n"
     ]
    },
    {
     "name": "stderr",
     "output_type": "stream",
     "text": [
      "\n",
      " 20%|████████▍                                 | 1/5 [00:01<00:07,  1.96s/it]\u001b[A"
     ]
    },
    {
     "name": "stdout",
     "output_type": "stream",
     "text": [
      "S14_P094_Amelia_all.csv\n",
      "S14_P094_Amelia_all.csv\n"
     ]
    },
    {
     "name": "stderr",
     "output_type": "stream",
     "text": [
      "\n",
      " 40%|████████████████▊                         | 2/5 [00:03<00:05,  1.95s/it]\u001b[A"
     ]
    },
    {
     "name": "stdout",
     "output_type": "stream",
     "text": [
      "S14_P096_Gianna_all.csv\n",
      "S14_P096_Gianna_all.csv\n"
     ]
    },
    {
     "name": "stderr",
     "output_type": "stream",
     "text": [
      "\n",
      " 60%|█████████████████████████▏                | 3/5 [00:05<00:03,  1.95s/it]\u001b[A"
     ]
    },
    {
     "name": "stdout",
     "output_type": "stream",
     "text": [
      "S14_P112_Emily_all.csv\n",
      "S14_P112_Emily_all.csv\n"
     ]
    },
    {
     "name": "stderr",
     "output_type": "stream",
     "text": [
      "\n",
      " 80%|█████████████████████████████████▌        | 4/5 [00:07<00:01,  1.96s/it]\u001b[A\n",
      "100%|██████████████████████████████████████████| 5/5 [00:09<00:00,  1.96s/it]\u001b[A\n",
      " 45%|██████████████████▍                      | 9/20 [01:33<01:58, 10.76s/it]"
     ]
    },
    {
     "name": "stdout",
     "output_type": "stream",
     "text": [
      "\n",
      "\n",
      "(4, 8905, 184)\n"
     ]
    },
    {
     "name": "stderr",
     "output_type": "stream",
     "text": [
      "\n",
      "  0%|                                                  | 0/5 [00:00<?, ?it/s]\u001b[A"
     ]
    },
    {
     "name": "stdout",
     "output_type": "stream",
     "text": [
      "S17_P088_Evelyn_all.csv\n",
      "S17_P088_Evelyn_all.csv\n"
     ]
    },
    {
     "name": "stderr",
     "output_type": "stream",
     "text": [
      "\n",
      " 20%|████████▍                                 | 1/5 [00:01<00:06,  1.54s/it]\u001b[A"
     ]
    },
    {
     "name": "stdout",
     "output_type": "stream",
     "text": [
      "S17_P103_Sarah_all.csv\n",
      "S17_P103_Sarah_all.csv\n"
     ]
    },
    {
     "name": "stderr",
     "output_type": "stream",
     "text": [
      "\n",
      " 40%|████████████████▊                         | 2/5 [00:03<00:04,  1.53s/it]\u001b[A"
     ]
    },
    {
     "name": "stdout",
     "output_type": "stream",
     "text": [
      "S17_P116_Sophia_all.csv\n",
      "S17_P116_Sophia_all.csv\n"
     ]
    },
    {
     "name": "stderr",
     "output_type": "stream",
     "text": [
      "\n",
      " 60%|█████████████████████████▏                | 3/5 [00:04<00:03,  1.55s/it]\u001b[A"
     ]
    },
    {
     "name": "stdout",
     "output_type": "stream",
     "text": [
      "S17_P123_Laila_all.csv\n",
      "S17_P123_Laila_all.csv\n"
     ]
    },
    {
     "name": "stderr",
     "output_type": "stream",
     "text": [
      "\n",
      " 80%|█████████████████████████████████▌        | 4/5 [00:06<00:01,  1.56s/it]\u001b[A\n",
      "100%|██████████████████████████████████████████| 5/5 [00:07<00:00,  1.55s/it]\u001b[A\n",
      " 50%|████████████████████                    | 10/20 [01:41<01:38,  9.84s/it]"
     ]
    },
    {
     "name": "stdout",
     "output_type": "stream",
     "text": [
      "\n",
      "\n",
      "(4, 6896, 184)\n"
     ]
    },
    {
     "name": "stderr",
     "output_type": "stream",
     "text": [
      "\n",
      "  0%|                                                  | 0/5 [00:00<?, ?it/s]\u001b[A"
     ]
    },
    {
     "name": "stdout",
     "output_type": "stream",
     "text": [
      "S18_P086_Matteo_all.csv\n",
      "S18_P086_Matteo_all.csv\n"
     ]
    },
    {
     "name": "stderr",
     "output_type": "stream",
     "text": [
      "\n",
      " 20%|████████▍                                 | 1/5 [00:02<00:08,  2.06s/it]\u001b[A"
     ]
    },
    {
     "name": "stdout",
     "output_type": "stream",
     "text": [
      "S18_P087_Naomi_all.csv\n",
      "S18_P087_Naomi_all.csv\n"
     ]
    },
    {
     "name": "stderr",
     "output_type": "stream",
     "text": [
      "\n",
      " 40%|████████████████▊                         | 2/5 [00:04<00:06,  2.06s/it]\u001b[A"
     ]
    },
    {
     "name": "stdout",
     "output_type": "stream",
     "text": [
      "S18_P090_Samuel_all.csv\n",
      "S18_P090_Samuel_all.csv\n"
     ]
    },
    {
     "name": "stderr",
     "output_type": "stream",
     "text": [
      "\n",
      " 60%|█████████████████████████▏                | 3/5 [00:06<00:04,  2.06s/it]\u001b[A"
     ]
    },
    {
     "name": "stdout",
     "output_type": "stream",
     "text": [
      "S18_P104_Charlie_all.csv\n",
      "S18_P104_Charlie_all.csv\n"
     ]
    },
    {
     "name": "stderr",
     "output_type": "stream",
     "text": [
      "\n",
      " 80%|█████████████████████████████████▌        | 4/5 [00:08<00:02,  2.05s/it]\u001b[A\n",
      "100%|██████████████████████████████████████████| 5/5 [00:10<00:00,  2.04s/it]\u001b[A\n",
      " 55%|██████████████████████                  | 11/20 [01:51<01:29,  9.97s/it]"
     ]
    },
    {
     "name": "stdout",
     "output_type": "stream",
     "text": [
      "\n",
      "\n",
      "(4, 9217, 184)\n"
     ]
    },
    {
     "name": "stderr",
     "output_type": "stream",
     "text": [
      "\n",
      "  0%|                                                  | 0/5 [00:00<?, ?it/s]\u001b[A"
     ]
    },
    {
     "name": "stdout",
     "output_type": "stream",
     "text": [
      "S19_P110_Ivy_all.csv\n",
      "S19_P110_Ivy_all.csv\n"
     ]
    },
    {
     "name": "stderr",
     "output_type": "stream",
     "text": [
      "\n",
      " 20%|████████▍                                 | 1/5 [00:02<00:08,  2.14s/it]\u001b[A"
     ]
    },
    {
     "name": "stdout",
     "output_type": "stream",
     "text": [
      "S19_P117_James_all.csv\n",
      "S19_P117_James_all.csv\n"
     ]
    },
    {
     "name": "stderr",
     "output_type": "stream",
     "text": [
      "\n",
      " 40%|████████████████▊                         | 2/5 [00:04<00:06,  2.11s/it]\u001b[A"
     ]
    },
    {
     "name": "stdout",
     "output_type": "stream",
     "text": [
      "S19_P121_evelyn_all.csv\n",
      "S19_P121_evelyn_all.csv\n"
     ]
    },
    {
     "name": "stderr",
     "output_type": "stream",
     "text": [
      "\n",
      " 60%|█████████████████████████▏                | 3/5 [00:06<00:04,  2.12s/it]\u001b[A"
     ]
    },
    {
     "name": "stdout",
     "output_type": "stream",
     "text": [
      "S19_P135_Samuel_all.csv\n",
      "S19_P135_Samuel_all.csv\n"
     ]
    },
    {
     "name": "stderr",
     "output_type": "stream",
     "text": [
      "\n",
      " 80%|█████████████████████████████████▌        | 4/5 [00:08<00:02,  2.11s/it]\u001b[A\n",
      "100%|██████████████████████████████████████████| 5/5 [00:10<00:00,  2.10s/it]\u001b[A\n",
      " 60%|████████████████████████                | 12/20 [02:01<01:21, 10.16s/it]"
     ]
    },
    {
     "name": "stdout",
     "output_type": "stream",
     "text": [
      "\n",
      "\n",
      "(4, 9515, 184)\n"
     ]
    },
    {
     "name": "stderr",
     "output_type": "stream",
     "text": [
      "\n",
      "  0%|                                                  | 0/5 [00:00<?, ?it/s]\u001b[A"
     ]
    },
    {
     "name": "stdout",
     "output_type": "stream",
     "text": [
      "S20_P128_Leo_all.csv\n",
      "S20_P128_Leo_all.csv\n"
     ]
    },
    {
     "name": "stderr",
     "output_type": "stream",
     "text": [
      "\n",
      " 20%|████████▍                                 | 1/5 [00:01<00:06,  1.66s/it]\u001b[A"
     ]
    },
    {
     "name": "stdout",
     "output_type": "stream",
     "text": [
      "S20_P140_lucas_all.csv\n",
      "S20_P140_lucas_all.csv\n"
     ]
    },
    {
     "name": "stderr",
     "output_type": "stream",
     "text": [
      "\n",
      " 40%|████████████████▊                         | 2/5 [00:03<00:04,  1.65s/it]\u001b[A"
     ]
    },
    {
     "name": "stdout",
     "output_type": "stream",
     "text": [
      "S20_P142_Connor_all.csv\n",
      "S20_P142_Connor_all.csv\n"
     ]
    },
    {
     "name": "stderr",
     "output_type": "stream",
     "text": [
      "\n",
      " 60%|█████████████████████████▏                | 3/5 [00:04<00:03,  1.65s/it]\u001b[A"
     ]
    },
    {
     "name": "stdout",
     "output_type": "stream",
     "text": [
      "S20_P151_Ian_all.csv\n",
      "S20_P151_Ian_all.csv\n"
     ]
    },
    {
     "name": "stderr",
     "output_type": "stream",
     "text": [
      "\n",
      " 80%|█████████████████████████████████▌        | 4/5 [00:06<00:01,  1.65s/it]\u001b[A\n",
      "100%|██████████████████████████████████████████| 5/5 [00:08<00:00,  1.65s/it]\u001b[A\n",
      " 65%|██████████████████████████              | 13/20 [02:10<01:07,  9.60s/it]"
     ]
    },
    {
     "name": "stdout",
     "output_type": "stream",
     "text": [
      "\n",
      "\n",
      "(4, 7497, 184)\n"
     ]
    },
    {
     "name": "stderr",
     "output_type": "stream",
     "text": [
      "\n",
      "  0%|                                                  | 0/5 [00:00<?, ?it/s]\u001b[A"
     ]
    },
    {
     "name": "stdout",
     "output_type": "stream",
     "text": [
      "S21_P075_Oliver_all.csv\n",
      "S21_P075_Oliver_all.csv\n"
     ]
    },
    {
     "name": "stderr",
     "output_type": "stream",
     "text": [
      "\n",
      " 20%|████████▍                                 | 1/5 [00:01<00:07,  1.96s/it]\u001b[A"
     ]
    },
    {
     "name": "stdout",
     "output_type": "stream",
     "text": [
      "S21_P124_Alison_all.csv\n",
      "S21_P124_Alison_all.csv\n"
     ]
    },
    {
     "name": "stderr",
     "output_type": "stream",
     "text": [
      "\n",
      " 40%|████████████████▊                         | 2/5 [00:03<00:05,  1.97s/it]\u001b[A"
     ]
    },
    {
     "name": "stdout",
     "output_type": "stream",
     "text": [
      "S21_P129_Raily_all.csv\n",
      "S21_P129_Raily_all.csv\n"
     ]
    },
    {
     "name": "stderr",
     "output_type": "stream",
     "text": [
      "\n",
      " 60%|█████████████████████████▏                | 3/5 [00:06<00:04,  2.02s/it]\u001b[A"
     ]
    },
    {
     "name": "stdout",
     "output_type": "stream",
     "text": [
      "S21_P146_Aaron_all.csv\n",
      "S21_P146_Aaron_all.csv\n"
     ]
    },
    {
     "name": "stderr",
     "output_type": "stream",
     "text": [
      "\n",
      " 80%|█████████████████████████████████▌        | 4/5 [00:08<00:02,  2.01s/it]\u001b[A\n",
      "100%|██████████████████████████████████████████| 5/5 [00:09<00:00,  2.00s/it]\u001b[A\n",
      " 70%|████████████████████████████            | 14/20 [02:20<00:58,  9.73s/it]"
     ]
    },
    {
     "name": "stdout",
     "output_type": "stream",
     "text": [
      "\n",
      "\n",
      "(4, 8936, 184)\n"
     ]
    },
    {
     "name": "stderr",
     "output_type": "stream",
     "text": [
      "\n",
      "  0%|                                                  | 0/5 [00:00<?, ?it/s]\u001b[A"
     ]
    },
    {
     "name": "stdout",
     "output_type": "stream",
     "text": [
      "S22_P127_Michael_all.csv\n",
      "S22_P127_Michael_all.csv\n"
     ]
    },
    {
     "name": "stderr",
     "output_type": "stream",
     "text": [
      "\n",
      " 20%|████████▍                                 | 1/5 [00:02<00:09,  2.43s/it]\u001b[A"
     ]
    },
    {
     "name": "stdout",
     "output_type": "stream",
     "text": [
      "S22_P141_Thomas_all.csv\n",
      "S22_P141_Thomas_all.csv\n"
     ]
    },
    {
     "name": "stderr",
     "output_type": "stream",
     "text": [
      "\n",
      " 40%|████████████████▊                         | 2/5 [00:04<00:07,  2.42s/it]\u001b[A"
     ]
    },
    {
     "name": "stdout",
     "output_type": "stream",
     "text": [
      "S22_P147_James_all.csv\n",
      "S22_P147_James_all.csv\n"
     ]
    },
    {
     "name": "stderr",
     "output_type": "stream",
     "text": [
      "\n",
      " 60%|█████████████████████████▏                | 3/5 [00:07<00:04,  2.41s/it]\u001b[A"
     ]
    },
    {
     "name": "stdout",
     "output_type": "stream",
     "text": [
      "S22_P154_Lucas_all.csv\n",
      "S22_P154_Lucas_all.csv\n"
     ]
    },
    {
     "name": "stderr",
     "output_type": "stream",
     "text": [
      "\n",
      " 80%|█████████████████████████████████▌        | 4/5 [00:09<00:02,  2.44s/it]\u001b[A\n",
      "100%|██████████████████████████████████████████| 5/5 [00:11<00:00,  2.39s/it]\u001b[A\n",
      " 75%|██████████████████████████████          | 15/20 [02:32<00:52, 10.41s/it]"
     ]
    },
    {
     "name": "stdout",
     "output_type": "stream",
     "text": [
      "\n",
      "\n",
      "(4, 10856, 184)\n"
     ]
    },
    {
     "name": "stderr",
     "output_type": "stream",
     "text": [
      "\n",
      "  0%|                                                  | 0/5 [00:00<?, ?it/s]\u001b[A"
     ]
    },
    {
     "name": "stdout",
     "output_type": "stream",
     "text": [
      "S25_P167_Luke_all.csv\n",
      "S25_P167_Luke_all.csv\n"
     ]
    },
    {
     "name": "stderr",
     "output_type": "stream",
     "text": [
      "\n",
      " 20%|████████▍                                 | 1/5 [00:02<00:08,  2.23s/it]\u001b[A"
     ]
    },
    {
     "name": "stdout",
     "output_type": "stream",
     "text": [
      "S25_P169_Liam_all.csv\n",
      "S25_P169_Liam_all.csv\n"
     ]
    },
    {
     "name": "stderr",
     "output_type": "stream",
     "text": [
      "\n",
      " 40%|████████████████▊                         | 2/5 [00:04<00:06,  2.23s/it]\u001b[A"
     ]
    },
    {
     "name": "stdout",
     "output_type": "stream",
     "text": [
      "S25_P173_Jackson_all.csv\n",
      "S25_P173_Jackson_all.csv\n"
     ]
    },
    {
     "name": "stderr",
     "output_type": "stream",
     "text": [
      "\n",
      " 60%|█████████████████████████▏                | 3/5 [00:06<00:04,  2.22s/it]\u001b[A"
     ]
    },
    {
     "name": "stdout",
     "output_type": "stream",
     "text": [
      "S25_P210_Gabrielle_all.csv\n",
      "S25_P210_Gabrielle_all.csv\n"
     ]
    },
    {
     "name": "stderr",
     "output_type": "stream",
     "text": [
      "\n",
      " 80%|█████████████████████████████████▌        | 4/5 [00:08<00:02,  2.22s/it]\u001b[A\n",
      "100%|██████████████████████████████████████████| 5/5 [00:11<00:00,  2.22s/it]\u001b[A\n",
      " 80%|████████████████████████████████        | 16/20 [02:43<00:42, 10.64s/it]"
     ]
    },
    {
     "name": "stdout",
     "output_type": "stream",
     "text": [
      "\n",
      "\n",
      "(4, 10095, 184)\n"
     ]
    },
    {
     "name": "stderr",
     "output_type": "stream",
     "text": [
      "\n",
      "  0%|                                                  | 0/5 [00:00<?, ?it/s]\u001b[A"
     ]
    },
    {
     "name": "stdout",
     "output_type": "stream",
     "text": [
      "S27_P034_Emma_all.csv\n",
      "S27_P034_Emma_all.csv\n"
     ]
    },
    {
     "name": "stderr",
     "output_type": "stream",
     "text": [
      "\n",
      " 20%|████████▍                                 | 1/5 [00:01<00:06,  1.62s/it]\u001b[A"
     ]
    },
    {
     "name": "stdout",
     "output_type": "stream",
     "text": [
      "S27_P061_Owen_all.csv\n",
      "S27_P061_Owen_all.csv\n"
     ]
    },
    {
     "name": "stderr",
     "output_type": "stream",
     "text": [
      "\n",
      " 40%|████████████████▊                         | 2/5 [00:03<00:04,  1.58s/it]\u001b[A"
     ]
    },
    {
     "name": "stdout",
     "output_type": "stream",
     "text": [
      "S27_P153_Aiden_all.csv\n",
      "S27_P153_Aiden_all.csv\n"
     ]
    },
    {
     "name": "stderr",
     "output_type": "stream",
     "text": [
      "\n",
      " 60%|█████████████████████████▏                | 3/5 [00:04<00:03,  1.52s/it]\u001b[A"
     ]
    },
    {
     "name": "stdout",
     "output_type": "stream",
     "text": [
      "S27_P160_Chloe_all.csv\n",
      "S27_P160_Chloe_all.csv\n"
     ]
    },
    {
     "name": "stderr",
     "output_type": "stream",
     "text": [
      "\n",
      " 80%|█████████████████████████████████▌        | 4/5 [00:06<00:01,  1.50s/it]\u001b[A\n",
      "100%|██████████████████████████████████████████| 5/5 [00:07<00:00,  1.50s/it]\u001b[A\n",
      " 85%|██████████████████████████████████      | 17/20 [02:51<00:29,  9.72s/it]"
     ]
    },
    {
     "name": "stdout",
     "output_type": "stream",
     "text": [
      "\n",
      "\n",
      "(4, 6525, 184)\n"
     ]
    },
    {
     "name": "stderr",
     "output_type": "stream",
     "text": [
      "\n",
      "  0%|                                                  | 0/5 [00:00<?, ?it/s]\u001b[A"
     ]
    },
    {
     "name": "stdout",
     "output_type": "stream",
     "text": [
      "S28_P122_Gabrielle_all.csv\n",
      "S28_P122_Gabrielle_all.csv\n"
     ]
    },
    {
     "name": "stderr",
     "output_type": "stream",
     "text": [
      "\n",
      " 20%|████████▍                                 | 1/5 [00:02<00:08,  2.16s/it]\u001b[A"
     ]
    },
    {
     "name": "stdout",
     "output_type": "stream",
     "text": [
      "S28_P148_Elizabeth_all.csv\n",
      "S28_P148_Elizabeth_all.csv\n"
     ]
    },
    {
     "name": "stderr",
     "output_type": "stream",
     "text": [
      "\n",
      " 40%|████████████████▊                         | 2/5 [00:04<00:06,  2.15s/it]\u001b[A"
     ]
    },
    {
     "name": "stdout",
     "output_type": "stream",
     "text": [
      "S28_P175_Bella_all.csv\n",
      "S28_P175_Bella_all.csv\n"
     ]
    },
    {
     "name": "stderr",
     "output_type": "stream",
     "text": [
      "\n",
      " 60%|█████████████████████████▏                | 3/5 [00:06<00:04,  2.15s/it]\u001b[A"
     ]
    },
    {
     "name": "stdout",
     "output_type": "stream",
     "text": [
      "S28_P181_Charlie_all.csv\n",
      "S28_P181_Charlie_all.csv\n"
     ]
    },
    {
     "name": "stderr",
     "output_type": "stream",
     "text": [
      "\n",
      " 80%|█████████████████████████████████▌        | 4/5 [00:08<00:02,  2.16s/it]\u001b[A\n",
      "100%|██████████████████████████████████████████| 5/5 [00:10<00:00,  2.16s/it]\u001b[A\n",
      " 90%|████████████████████████████████████    | 18/20 [03:01<00:20, 10.06s/it]"
     ]
    },
    {
     "name": "stdout",
     "output_type": "stream",
     "text": [
      "\n",
      "\n",
      "(4, 9688, 184)\n"
     ]
    },
    {
     "name": "stderr",
     "output_type": "stream",
     "text": [
      "\n",
      "  0%|                                                  | 0/5 [00:00<?, ?it/s]\u001b[A"
     ]
    },
    {
     "name": "stdout",
     "output_type": "stream",
     "text": [
      "S29_P179_Michael_all.csv\n",
      "S29_P179_Michael_all.csv\n"
     ]
    },
    {
     "name": "stderr",
     "output_type": "stream",
     "text": [
      "\n",
      " 20%|████████▍                                 | 1/5 [00:02<00:09,  2.34s/it]\u001b[A"
     ]
    },
    {
     "name": "stdout",
     "output_type": "stream",
     "text": [
      "S29_P188_Jack_all.csv\n",
      "S29_P188_Jack_all.csv\n"
     ]
    },
    {
     "name": "stderr",
     "output_type": "stream",
     "text": [
      "\n",
      " 40%|████████████████▊                         | 2/5 [00:04<00:06,  2.33s/it]\u001b[A"
     ]
    },
    {
     "name": "stdout",
     "output_type": "stream",
     "text": [
      "S29_P190_Nathan_all.csv\n",
      "S29_P190_Nathan_all.csv\n"
     ]
    },
    {
     "name": "stderr",
     "output_type": "stream",
     "text": [
      "\n",
      " 60%|█████████████████████████▏                | 3/5 [00:07<00:04,  2.34s/it]\u001b[A"
     ]
    },
    {
     "name": "stdout",
     "output_type": "stream",
     "text": [
      "S29_P208_James_all.csv\n",
      "S29_P208_James_all.csv\n"
     ]
    },
    {
     "name": "stderr",
     "output_type": "stream",
     "text": [
      "\n",
      " 80%|█████████████████████████████████▌        | 4/5 [00:09<00:02,  2.36s/it]\u001b[A\n",
      "100%|██████████████████████████████████████████| 5/5 [00:11<00:00,  2.35s/it]\u001b[A\n",
      " 95%|██████████████████████████████████████  | 19/20 [03:13<00:10, 10.59s/it]"
     ]
    },
    {
     "name": "stdout",
     "output_type": "stream",
     "text": [
      "\n",
      "\n",
      "(4, 10563, 184)\n"
     ]
    },
    {
     "name": "stderr",
     "output_type": "stream",
     "text": [
      "\n",
      "  0%|                                                  | 0/5 [00:00<?, ?it/s]\u001b[A"
     ]
    },
    {
     "name": "stdout",
     "output_type": "stream",
     "text": [
      "S30_P186_Violet_all.csv\n",
      "S30_P186_Violet_all.csv\n"
     ]
    },
    {
     "name": "stderr",
     "output_type": "stream",
     "text": [
      "\n",
      " 20%|████████▍                                 | 1/5 [00:01<00:07,  1.78s/it]\u001b[A"
     ]
    },
    {
     "name": "stdout",
     "output_type": "stream",
     "text": [
      "S30_P191_Hazel_all.csv\n",
      "S30_P191_Hazel_all.csv\n"
     ]
    },
    {
     "name": "stderr",
     "output_type": "stream",
     "text": [
      "\n",
      " 40%|████████████████▊                         | 2/5 [00:03<00:05,  1.77s/it]\u001b[A"
     ]
    },
    {
     "name": "stdout",
     "output_type": "stream",
     "text": [
      "S30_P207_Michael_all.csv\n",
      "S30_P207_Michael_all.csv\n"
     ]
    },
    {
     "name": "stderr",
     "output_type": "stream",
     "text": [
      "\n",
      " 60%|█████████████████████████▏                | 3/5 [00:05<00:03,  1.78s/it]\u001b[A"
     ]
    },
    {
     "name": "stdout",
     "output_type": "stream",
     "text": [
      "S30_P220_Oliver_all.csv\n",
      "S30_P220_Oliver_all.csv\n"
     ]
    },
    {
     "name": "stderr",
     "output_type": "stream",
     "text": [
      "\n",
      " 80%|█████████████████████████████████▌        | 4/5 [00:07<00:01,  1.79s/it]\u001b[A\n",
      "100%|██████████████████████████████████████████| 5/5 [00:08<00:00,  1.79s/it]\u001b[A\n",
      "100%|████████████████████████████████████████| 20/20 [03:22<00:00, 10.14s/it]"
     ]
    },
    {
     "name": "stdout",
     "output_type": "stream",
     "text": [
      "\n",
      "\n",
      "(4, 8155, 184)\n"
     ]
    },
    {
     "name": "stderr",
     "output_type": "stream",
     "text": [
      "\n"
     ]
    }
   ],
   "source": [
    "import utils \n",
    "\n",
    "group_nums_dict = utils.rr_group_nums\n",
    "import pdb\n",
    "from dataset_vid import RoomReader as DS\n",
    "import sys \n",
    "input_feats = len(utils.roomreader_desired_feats)\n",
    "context_secs = 8\n",
    "context_frames = (context_secs) * 8\n",
    "import pickle\n",
    "get_n_frames_per_sec = 8\n",
    "seed = 0\n",
    "from tqdm import tqdm\n",
    "\n",
    "args_data = 'roomreaderNoVid'\n",
    "\n",
    "if args_data == 'roomreader':\n",
    "    group_nums_dict = utils.rr_group_nums\n",
    "    import dataset_vid\n",
    "    from dataset_vid import RoomReader as DS\n",
    "    import sys \n",
    "    sys.modules['dataset'] = dataset_vid\n",
    "    input_feats = len(utils.roomreader_desired_feats)\n",
    "\n",
    "if args_data == 'roomreaderNoVid':\n",
    "    group_nums_dict = utils.rr_group_nums\n",
    "    import dataset_novid\n",
    "    from dataset_novid import RoomReaderNoVid as DS\n",
    "    import sys\n",
    "    sys.modules['dataset'] = dataset_novid\n",
    "    input_feats = len(utils.roomreader_desired_feats)\n",
    "    context_frames = (context_secs) * int(get_n_frames_per_sec)\n",
    "\n",
    "    \n",
    "group_ids = group_nums_dict[5]\n",
    "group_all_dataset = []\n",
    "for group_id in tqdm(group_ids):   \n",
    "    group_specific_dataset = DS(group_id = group_id, context_secs = context_secs, get_n_frames_per_sec = get_n_frames_per_sec, video_feat = 'resnet') \n",
    "    group_all_dataset.append(group_specific_dataset)"
   ]
  },
  {
   "cell_type": "code",
   "execution_count": 23,
   "id": "b4cc18b4",
   "metadata": {},
   "outputs": [],
   "source": [
    "import random\n",
    "import torch\n",
    "\n",
    "random.Random(int(seed)).shuffle(group_all_dataset)\n",
    "train_set = torch.utils.data.ConcatDataset(group_all_dataset[-4:])\n",
    "val_set =  torch.utils.data.ConcatDataset(group_all_dataset[-4:-1])\n",
    "test_set = group_all_dataset[-1]\n",
    "test_group_id = test_set.group_id"
   ]
  },
  {
   "cell_type": "code",
   "execution_count": 24,
   "id": "c72cec52",
   "metadata": {},
   "outputs": [],
   "source": [
    "from torch.utils.data import Dataset, DataLoader, SequentialSampler\n",
    "\n",
    "trainloader = DataLoader(train_set, batch_size = len(train_set), shuffle = True, drop_last=False, num_workers = 0) \n",
    "valloader = DataLoader(val_set, batch_size = len(val_set), shuffle = False, drop_last=False,num_workers = 0)\n",
    "testloader = DataLoader(test_set, batch_size = len(test_set), shuffle = False, drop_last=False,num_workers = 0)\n"
   ]
  },
  {
   "cell_type": "code",
   "execution_count": 25,
   "id": "ab18a7d0",
   "metadata": {},
   "outputs": [],
   "source": [
    "def _roomreader_quantize_label_4class(target):\n",
    "    target = (target + 2)\n",
    "    target = torch.clip(target, min = 0, max = 3)\n",
    "    target = torch.floor(target)\n",
    "\n",
    "    return target\n"
   ]
  },
  {
   "cell_type": "code",
   "execution_count": 239,
   "id": "04c21901",
   "metadata": {
    "scrolled": false
   },
   "outputs": [],
   "source": [
    "import pdb\n",
    "\n",
    "\n",
    "all_x = []\n",
    "all_y = []\n",
    "for batch in train_set:\n",
    "    all_x.append(batch['s_openface'])\n",
    "    all_y.append(batch['eng'][...,-1])\n",
    "    \n",
    "    \n",
    "all_x = torch.stack(all_x)\n",
    "all_y = torch.stack(all_y).flatten()\n",
    "all_y = _roomreader_quantize_label_4class(all_y)\n",
    "\n",
    "\n",
    "\n",
    "all_x_t = []\n",
    "all_y_t = []\n",
    "\n",
    "for i in range(len(test_set)): \n",
    "#     print(i)\n",
    "    batch = test_set[i]\n",
    "#     print(batch['eng'].shape)\n",
    "# for i, batch in enumerate(test_set):\n",
    "#     print(batch['eng'].shape)\n",
    "#     if i < 869:\n",
    "    all_x_t.append(batch['s_openface'])\n",
    "    all_y_t.append(batch['eng'][...,-1])\n",
    "    \n",
    "all_x_t = torch.stack(all_x_t)\n",
    "all_y_t = torch.stack(all_y_t).flatten()\n",
    "all_y_t = _roomreader_quantize_label_4class(all_y_t)\n",
    "\n",
    "all_x = (all_x).numpy()\n",
    "all_y = (all_y).numpy()\n",
    "\n",
    "\n",
    "target = all_y_t.numpy()\n",
    "pred = np.array(y_pred)\n"
   ]
  },
  {
   "cell_type": "code",
   "execution_count": 215,
   "id": "d772fb24",
   "metadata": {},
   "outputs": [
    {
     "name": "stdout",
     "output_type": "stream",
     "text": [
      "0.1953\n",
      "0.2104\n",
      "0.1823\n"
     ]
    }
   ],
   "source": [
    "#torch.concatenate((torch.nn.functional.normalize(features[...,:3]), torch.nn.functional.normalize(features[...,3:6]), torch.nn.functional.normalize(features[...,6:8]), torch.nn.functional.normalize(features[...,8:11]), torch.nn.functional.normalize(features[...,11:14]),\n",
    "from sklearn.naive_bayes import GaussianNB\n",
    "from sklearn.metrics import f1_score\n",
    "\n",
    "gnb = GaussianNB()\n",
    "y_pred = gnb.fit(all_x.flatten(0,1).flatten(1,2), all_y).predict(all_x_t.flatten(0,1).flatten(1,2))\n",
    "\n",
    "# macro_f1 = f1_score(target,pred,  average = 'macro')\n",
    "# weighted_f1 = f1_score(target,pred, average = 'weighted')\n",
    "# acc = (pred == target).mean()\n",
    "# indiv_f1 = f1_score(target, pred, average = None)\n",
    "\n",
    "# print(macro_f1)\n",
    "# print(weighted_f1)\n",
    "# print(acc)\n",
    "# print(indiv_f1)\n",
    "\n",
    "\n",
    "\n",
    "print(round(v_measure_score(pred, target),4))\n",
    "print(round(homogeneity_score(pred, target),4))\n",
    "print(round(completeness_score(pred,target),4))\n"
   ]
  },
  {
   "cell_type": "code",
   "execution_count": 246,
   "id": "345739cb",
   "metadata": {},
   "outputs": [
    {
     "name": "stdout",
     "output_type": "stream",
     "text": [
      "0.1953\n",
      "0.2104\n",
      "0.1823\n"
     ]
    }
   ],
   "source": [
    "#torch.concatenate((torch.nn.functional.normalize(features[...,:3]), torch.nn.functional.normalize(features[...,3:6]), torch.nn.functional.normalize(features[...,6:8]), torch.nn.functional.normalize(features[...,8:11]), torch.nn.functional.normalize(features[...,11:14]),\n",
    "from sklearn.naive_bayes import GaussianNB,MultinomialNB\n",
    "from sklearn.metrics import f1_score\n",
    "from sklearn.preprocessing import MinMaxScaler\n",
    "from sklearn.pipeline import Pipeline\n",
    "\n",
    "gnb = MultinomialNB()\n",
    "p = Pipeline([('Normalizing',MinMaxScaler()),('MultinomialNB',MultinomialNB())])\n",
    "y_pred = p.fit(all_x.flatten(0,1).flatten(1,2), all_y).predict(all_x_t.flatten(0,1).flatten(1,2))\n",
    "\n",
    "\n",
    "\n",
    "print(round(v_measure_score(pred, target),4))\n",
    "print(round(homogeneity_score(pred, target),4))\n",
    "print(round(completeness_score(pred,target),4))\n"
   ]
  },
  {
   "cell_type": "code",
   "execution_count": 251,
   "id": "6cc67a1a",
   "metadata": {},
   "outputs": [
    {
     "name": "stdout",
     "output_type": "stream",
     "text": [
      "Initialization 0\n",
      "  Iteration 10\n",
      "  Iteration 20\n",
      "Initialization converged: True\n",
      "0.06523149388524911\n",
      "0.09709786974971953\n",
      "0.04911314036448434\n"
     ]
    }
   ],
   "source": [
    "from sklearn.mixture import BayesianGaussianMixture\n",
    "from sklearn.metrics.cluster import completeness_score, v_measure_score, homogeneity_score,normalized_mutual_info_score, silhouette_score, calinski_harabasz_score, davies_bouldin_score\n",
    "\n",
    "bgm = BayesianGaussianMixture(covariance_type = 'diag', n_components=4, random_state=42, verbose = 1, init_params = 'k-means++').fit(all_x[...,8:11].flatten(0,1).flatten(1,2))\n",
    "\n",
    "res = bgm.predict(all_x_t[...,8:11].flatten(0,1).flatten(1,2))\n",
    "\n",
    "print(v_measure_score(target, res))\n",
    "print(homogeneity_score(target, res))\n",
    "print(completeness_score(target, res))"
   ]
  },
  {
   "cell_type": "code",
   "execution_count": 260,
   "id": "24ca3aa0",
   "metadata": {
    "scrolled": true
   },
   "outputs": [
    {
     "name": "stdout",
     "output_type": "stream",
     "text": [
      "0.037129287672357014\n",
      "0.05802636082849791\n",
      "0.027298323641120614\n"
     ]
    }
   ],
   "source": [
    "from sklearn.cluster import KMeans\n",
    "\n",
    "kmeans = KMeans(n_clusters=4, random_state=0, n_init=4).fit(all_x[...,8:11].flatten(0,1).flatten(1,2))\n",
    "res = kmeans.predict(all_x_t[...,8:11].flatten(0,1).flatten(1,2))\n",
    "\n",
    "print(v_measure_score(target, res))\n",
    "print(homogeneity_score(target, res))\n",
    "print(completeness_score(target, res))"
   ]
  },
  {
   "cell_type": "code",
   "execution_count": 261,
   "id": "f5fdba73",
   "metadata": {},
   "outputs": [
    {
     "name": "stdout",
     "output_type": "stream",
     "text": [
      "Initialization 0\n",
      "  Iteration 10\n",
      "Initialization converged: True\n",
      "0.021773721526193092\n",
      "0.025484912016890314\n",
      "0.019006008669516513\n"
     ]
    }
   ],
   "source": [
    "from sklearn.mixture import BayesianGaussianMixture, GaussianMixture\n",
    "from sklearn.metrics.cluster import completeness_score, v_measure_score, homogeneity_score,normalized_mutual_info_score, silhouette_score, calinski_harabasz_score, davies_bouldin_score\n",
    "\n",
    "bgm = GaussianMixture(covariance_type = 'diag', n_components=4, random_state=42, verbose = 1, init_params = 'k-means++').fit(all_x[...,8:11].flatten(0,1).flatten(1,2))\n",
    "\n",
    "res = bgm.predict(all_x_t[...,8:11].flatten(0,1).flatten(1,2))\n",
    "\n",
    "print(v_measure_score(target, res))\n",
    "print(homogeneity_score(target, res))\n",
    "print(completeness_score(target, res))"
   ]
  },
  {
   "cell_type": "code",
   "execution_count": null,
   "id": "012d7921",
   "metadata": {},
   "outputs": [],
   "source": [
    "from sklearn.mixture import BayesianGaussianMixture\n",
    "from sklearn.metrics.cluster import completeness_score, v_measure_score, homogeneity_score,normalized_mutual_info_score, silhouette_score, calinski_harabasz_score, davies_bouldin_score\n",
    "\n",
    "bgm = BayesianGaussianMixture(covariance_type = 'diag', n_components=4, random_state=42, verbose = 1, init_params = 'k-means++').fit(all_x[...,8:11].flatten(0,1).flatten(1,2))\n",
    "\n",
    "res = bgm.predict(all_x_t[...,8:11].flatten(0,1).flatten(1,2))\n",
    "\n",
    "print(v_measure_score(target, res))\n",
    "print(homogeneity_score(target, res))\n",
    "print(completeness_score(target, res))"
   ]
  },
  {
   "cell_type": "code",
   "execution_count": 265,
   "id": "cf174d71",
   "metadata": {
    "scrolled": false
   },
   "outputs": [
    {
     "name": "stdout",
     "output_type": "stream",
     "text": [
      "0.041175173742579965\n",
      "0.04816757842049043\n",
      "0.03595556595231328\n"
     ]
    }
   ],
   "source": [
    "from sklearn.cluster import AgglomerativeClustering\n",
    "import numpy as np\n",
    "X = all_x[...,8:11].flatten(0,1).flatten(1,2)\n",
    "test_X = all_x_t[...,8:11].flatten(0,1).flatten(1,2)\n",
    "\n",
    "res = clustering.fit(all_x_t[...,8:11].flatten(0,1).flatten(1,2)).labels_\n",
    "\n",
    "print(v_measure_score(target, res))\n",
    "print(homogeneity_score(target, res))\n",
    "print(completeness_score(target, res))"
   ]
  },
  {
   "cell_type": "code",
   "execution_count": 268,
   "id": "de603b72",
   "metadata": {},
   "outputs": [
    {
     "name": "stdout",
     "output_type": "stream",
     "text": [
      "0.03956122974032772\n",
      "0.051116659001015\n",
      "0.03226696199834299\n"
     ]
    }
   ],
   "source": [
    "from sklearn.cluster import Birch\n",
    "import numpy as np\n",
    "X = all_x[...,8:11].flatten(0,1).flatten(1,2)\n",
    "test_X = all_x_t[...,8:11].flatten(0,1).flatten(1,2)\n",
    "\n",
    "\n",
    "res = bgm.predict(all_x_t[...,8:11].flatten(0,1).flatten(1,2))\n",
    "\n",
    "\n",
    "brc = Birch(n_clusters=4).fit(X)\n",
    "res = brc.predict(all_x_t[...,8:11].flatten(0,1).flatten(1,2))\n",
    "\n",
    "print(v_measure_score(target, res))\n",
    "print(homogeneity_score(target, res))\n",
    "print(completeness_score(target, res))\n"
   ]
  },
  {
   "cell_type": "code",
   "execution_count": null,
   "id": "2fbdf0c6",
   "metadata": {},
   "outputs": [
    {
     "name": "stdout",
     "output_type": "stream",
     "text": [
      "Initialization 0\n"
     ]
    }
   ],
   "source": [
    "from sklearn.mixture import BayesianGaussianMixture\n",
    "from sklearn.metrics.cluster import completeness_score, v_measure_score, homogeneity_score,normalized_mutual_info_score, silhouette_score, calinski_harabasz_score, davies_bouldin_score\n",
    "\n",
    "start_ind = 0\n",
    "end_ind = 184\n",
    "#14\n",
    "\n",
    "# 0 - 3: gaze 0\n",
    "# 3 - 6: gaze 1\n",
    "# 6 - 8: gaze pos\n",
    "# 8 - 11: pose 0\n",
    "# 11- 14: pose 1 \n",
    "# 14 - 149 xy coords\n",
    "# 149 - 184 AUC\n",
    "\n",
    "\n",
    "\n",
    "#gaze 0 - 8\n",
    "#pose 8 - 14\n",
    "# skeletal 14-149\n",
    "# AUC 149 - 184 \n",
    "# 0 - 184 all \n",
    "# 'full' (each component has its own general covariance matrix),\n",
    "# 'tied' (all components share the same general covariance matrix),\n",
    "# 'diag' (each component has its own diagonal covariance matrix),\n",
    "# 'spherical' (each component has its own single variance).\n",
    "#max_iterint, default=100\n",
    "#The number of EM iterations to perform.\n",
    "\n",
    "start_ind = 0\n",
    "end_ind = 184\n",
    "\n",
    "bgm = BayesianGaussianMixture(covariance_type = 'full', n_components=4, random_state=42, verbose = 1, init_params = 'k-means++').fit(all_x[...,start_ind:end_ind].flatten(0,1).flatten(1,2))\n",
    "\n",
    "res = bgm.predict(all_x_t[...,start_ind:end_ind].flatten(0,1).flatten(1,2))\n",
    "\n",
    "print(round(v_measure_score(target, res),4))\n",
    "print(round(homogeneity_score(target, res),4))\n",
    "print(round(completeness_score(target, res),4))"
   ]
  },
  {
   "cell_type": "code",
   "execution_count": 157,
   "id": "a1d9d1e3",
   "metadata": {},
   "outputs": [
    {
     "name": "stdout",
     "output_type": "stream",
     "text": [
      "Silhouette Coefficient: -0.002\n",
      "Calinski-Harabasz Index: 29.466\n",
      "Davies-Bouldin Index: 4.114\n"
     ]
    }
   ],
   "source": [
    "print(\"Silhouette Coefficient: %0.3f\" % silhouette_score(all_x_t[..., -1,:3].flatten(0,1), target))\n",
    "print(\"Calinski-Harabasz Index: %0.3f\" % calinski_harabasz_score(all_x_t[..., -1,:3].flatten(0,1), target))\n",
    "print(\"Davies-Bouldin Index: %0.3f\" % davies_bouldin_score(all_x_t[..., -1,:3].flatten(0,1), target))"
   ]
  }
 ],
 "metadata": {
  "kernelspec": {
   "display_name": "Python 3 (ipykernel)",
   "language": "python",
   "name": "python3"
  },
  "language_info": {
   "codemirror_mode": {
    "name": "ipython",
    "version": 3
   },
   "file_extension": ".py",
   "mimetype": "text/x-python",
   "name": "python",
   "nbconvert_exporter": "python",
   "pygments_lexer": "ipython3",
   "version": "3.10.4"
  }
 },
 "nbformat": 4,
 "nbformat_minor": 5
}
